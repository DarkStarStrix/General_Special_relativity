{
 "cells": [
  {
   "cell_type": "markdown",
   "id": "b353b52ccc8a1c32",
   "metadata": {
    "collapsed": false
   },
   "source": [
    "# Simulate the Einstein field equations with two objects in the field interacting with each other one is a black hole and the other is a star"
   ]
  },
  {
   "cell_type": "code",
   "execution_count": null,
   "id": "5ae689665ab038d2",
   "metadata": {
    "ExecuteTime": {
     "end_time": "2023-11-24T02:11:58.999447Z",
     "start_time": "2023-11-24T02:11:57.957604Z"
    },
    "collapsed": false
   },
   "outputs": [],
   "source": [
    "# import the necessary libraries\n",
    "import numpy as np\n",
    "import matplotlib.pyplot as plt\n",
    "import matplotlib.animation as animation\n",
    "from scipy.integrate import odeint\n",
    "from scipy.integrate import solve_ivp\n",
    "from scipy.integrate import RK45\n",
    "from scipy.integrate import ode"
   ]
  },
  {
   "cell_type": "code",
   "execution_count": null,
   "metadata": {},
   "outputs": [],
   "source": [
    "# Animations\n",
    "import matplotlib.animation as animation\n",
    "from matplotlib import rc\n",
    "rc('animation', html='jshtml')"
   ]
  },
  {
   "cell_type": "markdown",
   "id": "c0b2b9b5d4db068",
   "metadata": {
    "collapsed": false
   },
   "source": [
    "# Define the constants"
   ]
  },
  {
   "cell_type": "code",
   "execution_count": null,
   "id": "f4abe9041592337a",
   "metadata": {
    "ExecuteTime": {
     "end_time": "2023-11-24T02:11:59.034386100Z",
     "start_time": "2023-11-24T02:11:57.980754100Z"
    },
    "collapsed": false
   },
   "outputs": [],
   "source": [
    "G = 6.67408e-11\n",
    "c = 299792458"
   ]
  },
  {
   "cell_type": "markdown",
   "id": "126274d918a880f8",
   "metadata": {
    "collapsed": false
   },
   "source": [
    "# Define the functions"
   ]
  },
  {
   "cell_type": "markdown",
   "id": "7c21a6de766cbd0c",
   "metadata": {
    "collapsed": false
   },
   "source": [
    "$$\\frac{d^2x}{dt^2} = -\\frac{GMx}{(x^2+y^2)^{3/2}}$$"
   ]
  },
  {
   "cell_type": "markdown",
   "id": "b6fd43c55ab37834",
   "metadata": {
    "collapsed": false
   },
   "source": [
    "# Function for one star orbiting the black hole"
   ]
  },
  {
   "cell_type": "code",
   "execution_count": null,
   "id": "61309e5fea8e2eb",
   "metadata": {
    "collapsed": false
   },
   "outputs": [],
   "source": [
    "def f(t, y):\n",
    "    return [y[1], -G*M*y[0]/(y[0]**2+y[2]**2)**(3/2), y[3], -G*M*y[2]/(y[0]**2+y[2]**2)**(3/2)]"
   ]
  },
  {
   "cell_type": "markdown",
   "id": "4e866853fe38c7c1",
   "metadata": {
    "collapsed": false
   },
   "source": [
    " $$f(y) = \\begin{bmatrix}y_1 \\\\-\\frac{G \\cdot M \\cdot y_0}{(y_0^2 + y_2^2)^{3/2}} \\\\ y_3 \\\\-\\frac{G \\cdot M \\cdot y_2}{(y_0^2 + y_2^2)^{3/2}}\\end{bmatrix}$$"
   ]
  },
  {
   "cell_type": "markdown",
   "id": "56bdf99b604dfc13",
   "metadata": {
    "collapsed": false
   },
   "source": [
    "# Function for two stars orbiting each other"
   ]
  },
  {
   "cell_type": "code",
   "execution_count": null,
   "id": "929f2092e7e2fa89",
   "metadata": {
    "collapsed": false
   },
   "outputs": [],
   "source": [
    "\n",
    "def f2(t,y):\n",
    "    return [y[1], -G*M*y[0]/(y[0]**2+y[2]**2)**(3/2), y[3], -G*M*y[2]/(y[0]**2+y[2]**2)**(3/2), y[5], -G*M*y[4]/(y[4]**2+y[6]**2)**(3/2), y[7], -G*M*y[6]/(y[4]**2+y[6]**2)**(3/2)]"
   ]
  },
  {
   "cell_type": "markdown",
   "id": "ef6eb73715fed7bd",
   "metadata": {
    "collapsed": false
   },
   "source": [
    "$$f2(y) = \\begin{bmatrix}y_1 \\\\-\\frac{G \\cdot M \\cdot y_0}{(y_0^2 + y_2^2)^{3/2}} \\\\ y_3 \\\\-\\frac{G \\cdot M \\cdot y_2}{(y_0^2 + y_2^2)^{3/2}} \\\\ y_5 \\\\-\\frac{G \\cdot M \\cdot y_4}{(y_4^2 + y_6^2)^{3/2}} \\\\ y_7 \\\\-\\frac{G \\cdot M \\cdot y_6}{(y_4^2 + y_6^2)^{3/2}}\\end{bmatrix}$$"
   ]
  },
  {
   "cell_type": "markdown",
   "id": "a3efde8c48be4c19",
   "metadata": {
    "collapsed": false
   },
   "source": [
    "# Function for three stars orbiting each other"
   ]
  },
  {
   "cell_type": "code",
   "execution_count": null,
   "id": "952d36c3c56c61de",
   "metadata": {
    "ExecuteTime": {
     "start_time": "2023-11-24T02:11:58.033588100Z"
    },
    "collapsed": false
   },
   "outputs": [],
   "source": [
    "def f3(t, y):\n",
    "    return [y[1], -G*M*y[0]/(y[0]**2+y[2]**2)**(3/2), y[3], -G*M*y[2]/(y[0]**2+y[2]**2)**(3/2), y[5], -G*M*y[4]/(y[4]**2+y[6]**2)**(3/2), y[7], -G*M*y[6]/(y[4]**2+y[6]**2)**(3/2), y[9], -G*M*y[8]/(y[8]**2+y[10]**2)**(3/2), y[11], -G*M*y[10]/(y[8]**2+y[10]**2)**(3/2)]"
   ]
  },
  {
   "cell_type": "markdown",
   "id": "89ce3b4c1296b858",
   "metadata": {
    "collapsed": false
   },
   "source": [
    "$$f3(y) = \\begin{bmatrix}y_1 \\\\-\\frac{G \\cdot M \\cdot y_0}{(y_0^2 + y_2^2)^{3/2}} \\\\ y_3 \\\\-\\frac{G \\cdot M \\cdot y_2}{(y_0^2 + y_2^2)^{3/2}} \\\\ y_5 \\\\-\\frac{G \\cdot M \\cdot y_4}{(y_4^2 + y_6^2)^{3/2}} \\\\ y_7 \\\\-\\frac{G \\cdot M \\cdot y_6}{(y_4^2 + y_6^2)^{3/2}} \\\\ y_9 \\\\-\\frac{G \\cdot M \\cdot y_8}{(y_8^2 + y_10^2)^{3/2}} \\\\ y_11 \\\\-\\frac{G \\cdot M \\cdot y_10}{(y_8^2 + y_10^2)^{3/2}}\\end{bmatrix}$$"
   ]
  },
  {
   "cell_type": "markdown",
   "id": "59359e288fb8bfaf",
   "metadata": {
    "collapsed": false
   },
   "source": [
    "# define the initial conditions"
   ]
  },
  {
   "cell_type": "code",
   "execution_count": null,
   "id": "c604d5734b42dd02",
   "metadata": {
    "ExecuteTime": {
     "end_time": "2023-11-24T02:11:59.149794400Z",
     "start_time": "2023-11-24T02:11:58.064193400Z"
    },
    "collapsed": false
   },
   "outputs": [],
   "source": [
    "M = 1.989e30\n",
    "r = 1.5e11\n",
    "v = 30000\n",
    "x0 = r\n",
    "y0 = 0\n",
    "vx0 = 0\n",
    "vy0 = v\n",
    "t0 = 0\n",
    "t1 = 100000000\n",
    "t = np.linspace(t0, t1, 1000000)\n",
    "y0 = [x0, vx0, y0, vy0]"
   ]
  },
  {
   "cell_type": "markdown",
   "id": "898f3cc9abd36df1",
   "metadata": {
    "collapsed": false
   },
   "source": [
    "# solve the differential equation"
   ]
  },
  {
   "cell_type": "code",
   "execution_count": null,
   "id": "d4f7244d0040eac7",
   "metadata": {
    "ExecuteTime": {
     "end_time": "2023-11-24T02:11:59.514928900Z",
     "start_time": "2023-11-24T02:11:58.089791800Z"
    },
    "collapsed": false
   },
   "outputs": [],
   "source": [
    "sol = solve_ivp(f, [t0, t1], y0, t_eval=t)"
   ]
  },
  {
   "cell_type": "markdown",
   "id": "66c7e126ec5b7b42",
   "metadata": {
    "collapsed": false
   },
   "source": [
    "# plot the solution"
   ]
  },
  {
   "cell_type": "code",
   "execution_count": null,
   "id": "750d13c8c6f2f3ee",
   "metadata": {
    "ExecuteTime": {
     "end_time": "2023-11-24T02:11:59.642393800Z",
     "start_time": "2023-11-24T02:11:58.268392800Z"
    },
    "collapsed": false
   },
   "outputs": [],
   "source": [
    "plt.plot(sol.y[0], sol.y[2])\n",
    "plt.show()"
   ]
  },
  {
   "cell_type": "markdown",
   "id": "839b642616dc51d",
   "metadata": {
    "collapsed": false
   },
   "source": [
    "# plot the solution with the black hole"
   ]
  },
  {
   "cell_type": "code",
   "execution_count": null,
   "id": "3d5c854653591ab0",
   "metadata": {
    "ExecuteTime": {
     "end_time": "2023-11-24T02:11:59.946510700Z",
     "start_time": "2023-11-24T02:11:58.922458800Z"
    },
    "collapsed": false
   },
   "outputs": [],
   "source": [
    "plt.plot(sol.y[0], sol.y[2])\n",
    "plt.plot(0, 0, 'ro')\n",
    "plt.show()"
   ]
  },
  {
   "cell_type": "code",
   "execution_count": null,
   "metadata": {},
   "outputs": [],
   "source": [
    "fig = plt.figure()\n",
    "ax = plt.axes(projection='3d')\n",
    "\n",
    "time = 0\n",
    "\n",
    "def frame(w):\n",
    "  ax.clear()\n",
    "  global time\n",
    "\n",
    "  plot = ax.scatter3D(sol.y[0][time], sol.y[2][time])\n",
    "  plot = ax.plot3D(0, 0, 0, 'ro')\n",
    "  \n",
    "  ax.axis(xmin=-1.5E11,xmax=1.5E11)\n",
    "  ax.axis(ymin=-1.5E11,ymax=1.5E11)\n",
    "  ax.set_zlim(zmin=-1.5E11,zmax=1.5E11)\n",
    "\n",
    "  time+=4000\n",
    "\n",
    "  return plot\n",
    "\n",
    "plt.close()\n",
    "\n",
    "anim = animation.FuncAnimation(fig, frame, frames=200, blit=False, repeat=True)\n",
    "#anim.save('cubic.gif')\n",
    "anim"
   ]
  },
  {
   "cell_type": "markdown",
   "id": "2854e733105e846d",
   "metadata": {
    "collapsed": false
   },
   "source": [
    "# plot the solution with the black hole and the star and simulate the orbit in 3d space"
   ]
  },
  {
   "cell_type": "code",
   "execution_count": null,
   "id": "cfcd125d82078574",
   "metadata": {
    "ExecuteTime": {
     "end_time": "2023-11-24T02:12:00.126520300Z",
     "start_time": "2023-11-24T02:11:59.324602500Z"
    },
    "collapsed": false
   },
   "outputs": [],
   "source": [
    "fig = plt.figure()\n",
    "ax = fig.add_subplot(111, projection='3d')\n",
    "ax.plot(sol.y[0], sol.y[2], sol.y[1])\n",
    "ax.plot(0, 0, 0, 'ro')\n",
    "plt.show()"
   ]
  },
  {
   "cell_type": "code",
   "execution_count": null,
   "metadata": {},
   "outputs": [],
   "source": [
    "fig = plt.figure()\n",
    "ax = plt.axes(projection='3d')\n",
    "\n",
    "time = 0\n",
    "\n",
    "def frame(w):\n",
    "  ax.clear()\n",
    "  global time\n",
    "\n",
    "  plot = ax.scatter3D(sol.y[0][time], sol.y[2][time], sol.y[1][time])\n",
    "  plot = ax.plot3D(0, 0, 0, 'ro')\n",
    "  \n",
    "  ax.axis(xmin=-1.5E11,xmax=1.5E11)\n",
    "  ax.axis(ymin=-1.5E11,ymax=1.5E11)\n",
    "  ax.set_zlim(zmin=-1.5E11,zmax=1.5E11)\n",
    "\n",
    "  time+=4000\n",
    "\n",
    "  return plot\n",
    "\n",
    "plt.close()\n",
    "\n",
    "anim = animation.FuncAnimation(fig, frame, frames=200, blit=False, repeat=True)\n",
    "#anim.save('cubic.gif')\n",
    "anim"
   ]
  },
  {
   "cell_type": "markdown",
   "id": "ddfcbedb60330db4",
   "metadata": {
    "collapsed": false
   },
   "source": [
    "# Plot the solution with the black hole and the star and simulate the orbit in 3d space"
   ]
  },
  {
   "cell_type": "code",
   "execution_count": null,
   "id": "df8b552fc370f0f4",
   "metadata": {
    "ExecuteTime": {
     "end_time": "2023-11-24T02:12:00.893311700Z",
     "start_time": "2023-11-24T02:11:59.934460500Z"
    },
    "collapsed": false
   },
   "outputs": [],
   "source": [
    "fig = plt.figure()\n",
    "ax = fig.add_subplot(111, projection='3d')\n",
    "ax.plot(sol.y[0], sol.y[2], sol.y[1])\n",
    "ax.plot(0, 0, 0, 'ro')\n",
    "ax.plot(sol.y[0], sol.y[2], sol.y[3])\n",
    "plt.show()"
   ]
  },
  {
   "cell_type": "code",
   "execution_count": null,
   "metadata": {},
   "outputs": [],
   "source": [
    "fig = plt.figure()\n",
    "ax = plt.axes(projection='3d')\n",
    "\n",
    "time = 0\n",
    "\n",
    "def frame(w):\n",
    "  ax.clear()\n",
    "  global time\n",
    "\n",
    "  plot = ax.scatter3D(sol.y[0][time], sol.y[2][time], sol.y[1][time])\n",
    "  plot = ax.scatter3D(sol.y[0][time], sol.y[2][time], sol.y[3][time])\n",
    "  plot = ax.plot3D(0, 0, 0, 'ro')\n",
    "  \n",
    "  ax.axis(xmin=-1.5E11,xmax=1.5E11)\n",
    "  ax.axis(ymin=-1.5E11,ymax=1.5E11)\n",
    "  ax.set_zlim(zmin=-3E5,zmax=3E5)\n",
    "\n",
    "  time+=4000\n",
    "\n",
    "  return plot\n",
    "\n",
    "plt.close()\n",
    "\n",
    "anim = animation.FuncAnimation(fig, frame, frames=200, blit=False, repeat=True)\n",
    "#anim.save('cubic.gif')\n",
    "anim"
   ]
  },
  {
   "cell_type": "markdown",
   "id": "7aa53067b1e381f2",
   "metadata": {
    "collapsed": false
   },
   "source": [
    "# Repeat the process with two stars orbiting each other"
   ]
  },
  {
   "cell_type": "code",
   "execution_count": null,
   "id": "c9b4df5df6c63c10",
   "metadata": {
    "ExecuteTime": {
     "end_time": "2023-11-24T02:12:01.006370500Z",
     "start_time": "2023-11-24T02:12:00.873195400Z"
    },
    "collapsed": false
   },
   "outputs": [],
   "source": [
    "M2 = 1.989e30\n",
    "r = 1.5e11\n",
    "v = 30000\n",
    "x0 = r\n",
    "y0 = 0\n",
    "vx0 = 0\n",
    "vy0 = v\n",
    "x1 = -r\n",
    "y1 = 0\n",
    "vx1 = 0\n",
    "vy1 = -v\n",
    "\n",
    "t0 = 0\n",
    "t1 = 100000000\n",
    "t = np.linspace(t0, t1, 1000000)\n",
    "y0 = [x0, vx0, y0, vy0, x1, vx1, y1, vy1]"
   ]
  },
  {
   "cell_type": "code",
   "execution_count": null,
   "id": "391445eeaa446d84",
   "metadata": {
    "ExecuteTime": {
     "end_time": "2023-11-24T02:12:01.104759200Z",
     "start_time": "2023-11-24T02:12:00.886366300Z"
    },
    "collapsed": false
   },
   "outputs": [],
   "source": [
    "sol = solve_ivp(f2, [t0, t1], y0, t_eval=t)"
   ]
  },
  {
   "cell_type": "code",
   "execution_count": null,
   "id": "7466f276b7b87ada",
   "metadata": {
    "ExecuteTime": {
     "end_time": "2023-11-24T02:12:01.459331800Z",
     "start_time": "2023-11-24T02:12:01.076248200Z"
    },
    "collapsed": false
   },
   "outputs": [],
   "source": [
    "plt.plot(sol.y[0], sol.y[2])\n",
    "plt.plot(sol.y[4], sol.y[6])\n",
    "plt.plot(0, 0, 'ro')\n",
    "plt.show()"
   ]
  },
  {
   "cell_type": "markdown",
   "id": "90445773c89f64da",
   "metadata": {
    "collapsed": false
   },
   "source": [
    "# Plot the two stars orbiting each other in 3d space "
   ]
  },
  {
   "cell_type": "code",
   "execution_count": null,
   "id": "6d974c85e68ffbf8",
   "metadata": {
    "ExecuteTime": {
     "end_time": "2023-11-24T02:12:02.291380300Z",
     "start_time": "2023-11-24T02:12:01.488739800Z"
    },
    "collapsed": false
   },
   "outputs": [],
   "source": [
    "fig = plt.figure()\n",
    "ax = fig.add_subplot(111, projection='3d')\n",
    "ax.plot(sol.y[0], sol.y[2], sol.y[1])\n",
    "ax.plot(sol.y[4], sol.y[6], sol.y[5])\n",
    "ax.plot(0, 0, 0, 'ro')\n",
    "plt.show()"
   ]
  },
  {
   "cell_type": "code",
   "execution_count": null,
   "metadata": {},
   "outputs": [],
   "source": [
    "fig = plt.figure()\n",
    "ax = plt.axes(projection='3d')\n",
    "\n",
    "time = 0\n",
    "\n",
    "def frame(w):\n",
    "  ax.clear()\n",
    "  global time\n",
    "\n",
    "  plot = ax.scatter3D(sol.y[0][time], sol.y[2][time], sol.y[1][time])\n",
    "  plot = ax.scatter3D(sol.y[4][time], sol.y[6][time], sol.y[5][time])\n",
    "  plot = ax.plot3D(0, 0, 0, 'ro')\n",
    "  \n",
    "  ax.axis(xmin=-1.5E11,xmax=1.5E11)\n",
    "  ax.axis(ymin=-1.5E11,ymax=1.5E11)\n",
    "  ax.set_zlim(zmin=-3E5,zmax=3E5)\n",
    "\n",
    "  time+=4000\n",
    "\n",
    "  return plot\n",
    "\n",
    "plt.close()\n",
    "\n",
    "anim = animation.FuncAnimation(fig, frame, frames=200, blit=False, repeat=True)\n",
    "#anim.save('cubic.gif')\n",
    "anim"
   ]
  },
  {
   "cell_type": "markdown",
   "id": "f344e823161472d4",
   "metadata": {
    "collapsed": false
   },
   "source": [
    "# Plot the two stars orbiting each other in 3d space "
   ]
  },
  {
   "cell_type": "code",
   "execution_count": null,
   "id": "ea96db879058e173",
   "metadata": {
    "ExecuteTime": {
     "end_time": "2023-11-24T02:12:03.721854400Z",
     "start_time": "2023-11-24T02:12:02.313484800Z"
    },
    "collapsed": false
   },
   "outputs": [],
   "source": [
    "fig = plt.figure()\n",
    "ax = fig.add_subplot(111, projection='3d')\n",
    "ax.plot(sol.y[0], sol.y[2], sol.y[1])\n",
    "ax.plot(sol.y[4], sol.y[6], sol.y[5])\n",
    "ax.plot(0, 0, 0, 'ro')\n",
    "ax.plot(sol.y[0], sol.y[2], sol.y[3])\n",
    "ax.plot(sol.y[4], sol.y[6], sol.y[7])\n",
    "plt.show()"
   ]
  },
  {
   "cell_type": "code",
   "execution_count": null,
   "metadata": {},
   "outputs": [],
   "source": [
    "fig = plt.figure()\n",
    "ax = plt.axes(projection='3d')\n",
    "\n",
    "time = 0\n",
    "\n",
    "def frame(w):\n",
    "  ax.clear()\n",
    "  global time\n",
    "\n",
    "  plot = ax.scatter3D(sol.y[0][time], sol.y[2][time], sol.y[1][time])\n",
    "  plot = ax.scatter3D(sol.y[4][time], sol.y[6][time], sol.y[5][time])\n",
    "  plot = ax.scatter3D(sol.y[0][time], sol.y[2][time], sol.y[3][time])\n",
    "  plot = ax.scatter3D(sol.y[4][time], sol.y[6][time], sol.y[7][time])\n",
    "  plot = ax.plot3D(0, 0, 0, 'ro')\n",
    "  \n",
    "  ax.axis(xmin=-1.5E11,xmax=1.5E11)\n",
    "  ax.axis(ymin=-1.5E11,ymax=1.5E11)\n",
    "  ax.set_zlim(zmin=-3E5,zmax=3E5)\n",
    "\n",
    "  time+=4000\n",
    "\n",
    "  return plot\n",
    "\n",
    "plt.close()\n",
    "\n",
    "anim = animation.FuncAnimation(fig, frame, frames=200, blit=False, repeat=True)\n",
    "#anim.save('cubic.gif')\n",
    "anim"
   ]
  },
  {
   "cell_type": "markdown",
   "id": "41ccb604541ae66c",
   "metadata": {
    "collapsed": false
   },
   "source": [
    "# Make a photon that is emitted from the star and see how it is affected by the black hole"
   ]
  },
  {
   "cell_type": "code",
   "execution_count": null,
   "id": "c808f63671a45ee7",
   "metadata": {
    "ExecuteTime": {
     "end_time": "2023-11-24T02:12:03.749519300Z",
     "start_time": "2023-11-24T02:12:03.726362700Z"
    },
    "collapsed": false
   },
   "outputs": [],
   "source": [
    "M3 = 1.989e30\n",
    "r = 1.5e11\n",
    "v = 30000\n",
    "x0 = r\n",
    "y0 = 0\n",
    "vx0 = 0\n",
    "vy0 = v\n",
    "x1 = -r\n",
    "y1 = 0\n",
    "vx1 = 0\n",
    "vy1 = -v\n",
    "x2 = 0\n",
    "y2 = 0\n",
    "vx2 = 0\n",
    "vy2 = 0"
   ]
  },
  {
   "cell_type": "code",
   "execution_count": null,
   "id": "3f8b2df51d1ce4ca",
   "metadata": {
    "ExecuteTime": {
     "end_time": "2023-11-24T02:12:03.836673100Z",
     "start_time": "2023-11-24T02:12:03.738894500Z"
    },
    "collapsed": false
   },
   "outputs": [],
   "source": [
    "t0 = 0\n",
    "t1 = 100000000\n",
    "t = np.linspace(t0, t1, 1000000)\n",
    "y0 = [x0, vx0, y0, vy0, x1, vx1, y1, vy1, x2, vx2, y2, vy2]"
   ]
  },
  {
   "cell_type": "code",
   "execution_count": null,
   "id": "da576e304d005973",
   "metadata": {
    "ExecuteTime": {
     "end_time": "2023-11-24T02:12:03.836673100Z",
     "start_time": "2023-11-24T02:12:03.761673300Z"
    },
    "collapsed": false
   },
   "outputs": [],
   "source": [
    "def f4(t, y):\n",
    "    epsilon = 1e-6  # small constant to avoid division by zero\n",
    "    return [y[1], -G*M*y[0]/(y[0]**2+y[2]**2+epsilon)**(3/2) if y[0]**2+y[2]**2 > epsilon else 0,\n",
    "            y[3], -G*M*y[2]/(y[0]**2+y[2]**2+epsilon)**(3/2) if y[0]**2+y[2]**2 > epsilon else 0,\n",
    "            y[5], -G*M*y[4]/(y[4]**2+y[6]**2+epsilon)**(3/2) if y[4]**2+y[6]**2 > epsilon else 0,\n",
    "            y[7], -G*M*y[6]/(y[4]**2+y[6]**2+epsilon)**(3/2) if y[4]**2+y[6]**2 > epsilon else 0,\n",
    "            y[9], -G*M*y[8]/(y[8]**2+y[10]**2+epsilon)**(3/2) if y[8]**2+y[10]**2 > epsilon else 0,\n",
    "            y[11], -G*M*y[10]/(y[8]**2+y[10]**2+epsilon)**(3/2) if y[8]**2+y[10]**2 > epsilon else 0]"
   ]
  },
  {
   "cell_type": "markdown",
   "id": "e15a7f0e93ce1d16",
   "metadata": {
    "collapsed": false
   },
   "source": [
    "$$f4(y) = \\begin{bmatrix}y_1 \\\\-\\frac{G \\cdot M \\cdot y_0}{(y_0^2 + y_2^2 + \\epsilon)^{3/2}} \\\\ y_3 \\\\-\\frac{G \\cdot M \\cdot y_2}{(y_0^2 + y_2^2 + \\epsilon)^{3/2}} \\\\ y_5 \\\\-\\frac{G \\cdot M \\cdot y_4}{(y_4^2 + y_6^2 + \\epsilon)^{3/2}} \\\\ y_7 \\\\-\\frac{G \\cdot M \\cdot y_6}{(y_4^2 + y_6^2 + \\epsilon)^{3/2}} \\\\ y_9 \\\\-\\frac{G \\cdot M \\cdot y_8}{(y_8^2 + y_10^2 + \\epsilon)^{3/2}} \\\\ y_11 \\\\-\\frac{G \\cdot M \\cdot y_10}{(y_8^2 + y_10^2 + \\epsilon)^{3/2}}\\end{bmatrix}$$"
   ]
  },
  {
   "cell_type": "markdown",
   "id": "2850de4c57996fb8",
   "metadata": {
    "collapsed": false
   },
   "source": [
    "# Solve the differential equation"
   ]
  },
  {
   "cell_type": "code",
   "execution_count": null,
   "id": "c9897de2d42a2888",
   "metadata": {
    "ExecuteTime": {
     "end_time": "2023-11-24T02:12:04.061275100Z",
     "start_time": "2023-11-24T02:12:03.784371300Z"
    },
    "collapsed": false
   },
   "outputs": [],
   "source": [
    "sol = solve_ivp(f4, [t0, t1], y0, t_eval=t)"
   ]
  },
  {
   "cell_type": "markdown",
   "id": "f2f477fc27859336",
   "metadata": {
    "collapsed": false
   },
   "source": [
    "# Plot the solution the photon is deflected by the black hole"
   ]
  },
  {
   "cell_type": "code",
   "execution_count": null,
   "id": "adf3f361502286f5",
   "metadata": {
    "ExecuteTime": {
     "end_time": "2023-11-24T02:12:04.498436200Z",
     "start_time": "2023-11-24T02:12:04.005054Z"
    },
    "collapsed": false
   },
   "outputs": [],
   "source": [
    "plt.plot(sol.y[0], sol.y[2])\n",
    "plt.plot(sol.y[4], sol.y[6])\n",
    "plt.plot(sol.y[8], sol.y[10])\n",
    "plt.plot(0, 0, 'ro')\n",
    "plt.show()"
   ]
  },
  {
   "cell_type": "markdown",
   "id": "4aadc827c45f178f",
   "metadata": {
    "collapsed": false
   },
   "source": [
    "# Measure the deflection of the photon and compare it to the prediction of general relativity and its velocity"
   ]
  },
  {
   "cell_type": "code",
   "execution_count": null,
   "id": "276910c40834e47",
   "metadata": {
    "ExecuteTime": {
     "end_time": "2023-11-24T02:12:04.574181400Z",
     "start_time": "2023-11-24T02:12:04.494917500Z"
    },
    "collapsed": false
   },
   "outputs": [],
   "source": [
    "def f5(t, y):\n",
    "    epsilon = 1e-6  # small constant to avoid division by zero\n",
    "    return [y[1], -G*M*y[0]/((y[0]**2+y[2]**2+epsilon)**(3/2)), y[3], -G*M*y[2]/((y[0]**2+y[2]**2+epsilon)**(3/2)), y[5], -G*M*y[4]/((y[4]**2+y[6]**2+epsilon)**(3/2)), y[7], -G*M*y[6]/((y[4]**2+y[6]**2+epsilon)**(3/2)), y[9], -G*M*y[8]/((y[8]**2+y[10]**2+epsilon)**(3/2)), y[11], -G*M*y[10]/((y[8]**2+y[10]**2+epsilon)**(3/2)), y[13], -G*M*y[12]/((y[12]**2+y[14]**2+epsilon)**(3/2)), y[15], -G*M*y[14]/((y[12]**2+y[14]**2+epsilon)**(3/2))]"
   ]
  },
  {
   "cell_type": "markdown",
   "id": "99dac5e629866135",
   "metadata": {
    "collapsed": false
   },
   "source": [
    "$$f5(y) = \\begin{bmatrix}y_1 \\\\-\\frac{G \\cdot M \\cdot y_0}{(y_0^2 + y_2^2 + \\epsilon)^{3/2}} \\\\ y_3 \\\\-\\frac{G \\cdot M \\cdot y_2}{(y_0^2 + y_2^2 + \\epsilon)^{3/2}} \\\\ y_5 \\\\-\\frac{G \\cdot M \\cdot y_4}{(y_4^2 + y_6^2 + \\epsilon)^{3/2}} \\\\ y_7 \\\\-\\frac{G \\cdot M \\cdot y_6}{(y_4^2 + y_6^2 + \\epsilon)^{3/2}} \\\\ y_9 \\\\-\\frac{G \\cdot M \\cdot y_8}{(y_8^2 + y_10^2 + \\epsilon)^{3/2}} \\\\ y_11 \\\\-\\frac{G \\cdot M \\cdot y_10}{(y_8^2 + y_10^2 + \\epsilon)^{3/2}} \\\\ y_13 \\\\-\\frac{G \\cdot M \\cdot y_12}{(y_12^2 + y_14^2 + \\epsilon)^{3/2}} \\\\ y_15 \\\\-\\frac{G \\cdot M \\cdot y_14}{(y_12^2 + y_14^2 + \\epsilon)^{3/2}}\\end{bmatrix}$$"
   ]
  },
  {
   "cell_type": "code",
   "execution_count": null,
   "id": "ac169af036834580",
   "metadata": {
    "ExecuteTime": {
     "end_time": "2023-11-24T02:12:04.574181400Z",
     "start_time": "2023-11-24T02:12:04.506446Z"
    },
    "collapsed": false
   },
   "outputs": [],
   "source": [
    "M4 = 1.989e30\n",
    "r = 1.5e11\n",
    "v = 30000\n",
    "x0 = r\n",
    "y0 = 0\n",
    "vx0 = 0\n",
    "vy0 = v\n",
    "x1 = -r\n",
    "y1 = 0\n",
    "vx1 = 0\n",
    "vy1 = -v\n",
    "x2 = 0\n",
    "y2 = 0\n",
    "vx2 = 0\n",
    "vy2 = 0\n",
    "x3 = 0\n",
    "y3 = 0\n",
    "vx3 = 0\n",
    "vy3 = 0"
   ]
  },
  {
   "cell_type": "code",
   "execution_count": null,
   "id": "de4474c4b988620b",
   "metadata": {
    "ExecuteTime": {
     "end_time": "2023-11-24T02:12:04.575221600Z",
     "start_time": "2023-11-24T02:12:04.523408900Z"
    },
    "collapsed": false
   },
   "outputs": [],
   "source": [
    "t0 = 0\n",
    "t1 = 100000000\n",
    "t = np.linspace(t0, t1, 1000000)\n",
    "y0 = [x0, vx0, y0, vy0, x1, vx1, y1, vy1, x2, vx2, y2, vy2, x3, vx3, y3, vy3]"
   ]
  },
  {
   "cell_type": "code",
   "execution_count": null,
   "id": "5018a6871231752d",
   "metadata": {
    "ExecuteTime": {
     "end_time": "2023-11-24T02:12:04.816542700Z",
     "start_time": "2023-11-24T02:12:04.534998400Z"
    },
    "collapsed": false
   },
   "outputs": [],
   "source": [
    "sol = solve_ivp(f5, [t0, t1], y0, t_eval=t)"
   ]
  },
  {
   "cell_type": "markdown",
   "id": "94c1a3142b2b11f5",
   "metadata": {
    "collapsed": false
   },
   "source": [
    "# Plot the solution the photon is deflected by the black hole print the deflection and the velocity in the x and y direction in the center of mass frame in 3d space"
   ]
  },
  {
   "cell_type": "code",
   "execution_count": null,
   "id": "b2586215762df16d",
   "metadata": {
    "ExecuteTime": {
     "end_time": "2023-11-24T02:12:06.477754900Z",
     "start_time": "2023-11-24T02:12:04.804508400Z"
    },
    "collapsed": false
   },
   "outputs": [],
   "source": [
    "fig = plt.figure()\n",
    "ax = fig.add_subplot(111, projection='3d')\n",
    "ax.plot(sol.y[0], sol.y[2], sol.y[1])\n",
    "ax.plot(sol.y[4], sol.y[6], sol.y[5])\n",
    "ax.plot(sol.y[8], sol.y[10], sol.y[9])\n",
    "ax.plot(sol.y[12], sol.y[14], sol.y[13])\n",
    "ax.plot(0, 0, 0, 'ro')\n",
    "plt.show()"
   ]
  },
  {
   "cell_type": "code",
   "execution_count": null,
   "metadata": {},
   "outputs": [],
   "source": [
    "fig = plt.figure()\n",
    "ax = plt.axes(projection='3d')\n",
    "\n",
    "time = 0\n",
    "\n",
    "def frame(w):\n",
    "  ax.clear()\n",
    "  global time\n",
    "\n",
    "  plot = ax.scatter3D(sol.y[0][time], sol.y[2][time], sol.y[1][time])\n",
    "  plot = ax.scatter3D(sol.y[4][time], sol.y[6][time], sol.y[5][time])\n",
    "  plot = ax.scatter3D(sol.y[8][time], sol.y[10][time], sol.y[9][time])\n",
    "  plot = ax.scatter3D(sol.y[12][time], sol.y[14][time], sol.y[13][time])\n",
    "  plot = ax.plot3D(0, 0, 0, 'ro')\n",
    "  \n",
    "  ax.axis(xmin=-1.5E11,xmax=1.5E11)\n",
    "  ax.axis(ymin=-1.5E11,ymax=1.5E11)\n",
    "  ax.set_zlim(zmin=-3E5,zmax=3E5)\n",
    "\n",
    "  time+=4000\n",
    "\n",
    "  return plot\n",
    "\n",
    "plt.close()\n",
    "\n",
    "anim = animation.FuncAnimation(fig, frame, frames=200, blit=False, repeat=True)\n",
    "#anim.save('cubic.gif')\n",
    "anim"
   ]
  },
  {
   "cell_type": "markdown",
   "id": "ba93145b5cf16ea8",
   "metadata": {
    "collapsed": false
   },
   "source": [
    "# Print the deflection and the velocity in the x and y direction in the center of mass frame"
   ]
  },
  {
   "cell_type": "code",
   "execution_count": null,
   "id": "d04357802381bca0",
   "metadata": {
    "ExecuteTime": {
     "end_time": "2023-11-24T02:12:06.477754900Z",
     "start_time": "2023-11-24T02:12:06.449454800Z"
    },
    "collapsed": false
   },
   "outputs": [],
   "source": [
    "print(sol.y[0][-1])\n",
    "print(sol.y[2][-1])\n",
    "print(sol.y[1][-1])\n",
    "print(sol.y[3][-1])\n",
    "print(sol.y[4][-1])\n",
    "print(sol.y[6][-1])\n",
    "print(sol.y[5][-1])\n",
    "print(sol.y[7][-1])\n",
    "print(sol.y[8][-1])\n",
    "print(sol.y[10][-1])\n",
    "print(sol.y[9][-1])\n",
    "print(sol.y[11][-1])"
   ]
  },
  {
   "cell_type": "markdown",
   "id": "df9cb8162cbe8f1a",
   "metadata": {
    "collapsed": false
   },
   "source": []
  }
 ],
 "metadata": {
  "kernelspec": {
   "display_name": "Python 3",
   "language": "python",
   "name": "python3"
  },
  "language_info": {
   "codemirror_mode": {
    "name": "ipython",
    "version": 3
   },
   "file_extension": ".py",
   "mimetype": "text/x-python",
   "name": "python",
   "nbconvert_exporter": "python",
   "pygments_lexer": "ipython3",
   "version": "3.11.4"
  }
 },
 "nbformat": 4,
 "nbformat_minor": 5
}
